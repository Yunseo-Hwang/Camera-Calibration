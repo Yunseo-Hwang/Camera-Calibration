{
 "cells": [
  {
   "cell_type": "markdown",
   "metadata": {},
   "source": [
    "**Hand Eye Calibration with Charuco Board** (opencv-python 4.5.5.62)"
   ]
  },
  {
   "cell_type": "markdown",
   "metadata": {},
   "source": [
    "Data preparation"
   ]
  },
  {
   "cell_type": "code",
   "execution_count": null,
   "metadata": {},
   "outputs": [],
   "source": [
    "import cv2 as cv\n",
    "import numpy as np\n",
    "import pandas as pd\n",
    "from scipy.spatial.transform import Rotation\n",
    "import glob"
   ]
  },
  {
   "cell_type": "code",
   "execution_count": null,
   "metadata": {},
   "outputs": [],
   "source": [
    "# Load images\n",
    "images = [cv.imread(image_path) for image_path in glob.glob('images/*.png')]\n",
    "\n",
    "# Load optical marker poses\n",
    "df = pd.read_csv('tf_poses_camhand.csv', header=None, names=['timestamps', 'translation_x', 'translation_y', 'translation_z', 'quaternion_x', 'quaternion_y', 'quaternion_z', 'quaternion_w'])\n",
    "translations = df[['translation_x', 'translation_y', 'translation_z']].values\n",
    "quaternions = df[['quaternion_x', 'quaternion_y', 'quaternion_z', 'quaternion_w']].values\n",
    "\n",
    "rotation_matrices = []\n",
    "for quaternion in quaternions:\n",
    "    # Normalize quaternion\n",
    "    quaternion /= np.linalg.norm(quaternion)\n",
    "\n",
    "    # Convert quaternion to rotation matrix\n",
    "    rotation_matrix = Rotation.from_quat(quaternion).as_matrix()\n",
    "    rotation_matrices.append(rotation_matrix)"
   ]
  },
  {
   "cell_type": "markdown",
   "metadata": {},
   "source": [
    "Calibration"
   ]
  },
  {
   "cell_type": "code",
   "execution_count": null,
   "metadata": {},
   "outputs": [],
   "source": [
    "# Define ChArUco board parameters\n",
    "CHARUCOBOARD_COLCOUNT = 9\n",
    "CHARUCOBOARD_ROWCOUNT = 11\n",
    "ARUCO_DICT = cv.aruco.Dictionary_get(cv.aruco.DICT_4X4_1000)\n",
    "SQUARE_LENGTH = 0.047  # Checker size in meters\n",
    "MARKER_LENGTH = 0.035  # Marker size in meters\n",
    "\n",
    "# Create ChArUco board\n",
    "board = cv.aruco.CharucoBoard_create(\n",
    "    squaresX=CHARUCOBOARD_COLCOUNT,\n",
    "    squaresY=CHARUCOBOARD_ROWCOUNT,\n",
    "    squareLength=SQUARE_LENGTH,\n",
    "    markerLength=MARKER_LENGTH,\n",
    "    dictionary=ARUCO_DICT\n",
    ")"
   ]
  },
  {
   "cell_type": "code",
   "execution_count": null,
   "metadata": {},
   "outputs": [],
   "source": [
    "# Detect ChArUco corners and IDs\n",
    "all_corners = []\n",
    "all_ids = []\n",
    "\n",
    "# Iterate through images to collect calibration data\n",
    "for image in images:\n",
    "    gray = cv.cvtColor(image, cv.COLOR_BGR2GRAY)\n",
    "    \n",
    "    # Detect ArUco markers\n",
    "    corners, ids, _ = cv.aruco.detectMarkers(gray, ARUCO_DICT)\n",
    "   \n",
    "    if len(corners) > 0:\n",
    "        # Refine detected markers\n",
    "        corners, ids, _, _ = cv.aruco.refineDetectedMarkers(\n",
    "            image=gray,\n",
    "            board=board,\n",
    "            detectedCorners=corners,\n",
    "            detectedIds=ids,\n",
    "            rejectedCorners=None,\n",
    "            cameraMatrix=None,\n",
    "            distCoeffs=None\n",
    "        )\n",
    "\n",
    "        if len(corners) > 0:\n",
    "            # Interpolate charuco corners\n",
    "            ret, charuco_corners, charuco_ids = cv.aruco.interpolateCornersCharuco(\n",
    "                markerCorners=corners,\n",
    "                markerIds=ids,\n",
    "                image=gray,\n",
    "                board=board\n",
    "            )\n",
    "            \n",
    "            # Check if interpolation was successful and the number of corners is sufficient\n",
    "            if ret > 3:\n",
    "                all_corners.append(charuco_corners)\n",
    "                all_ids.append(charuco_ids)\n"
   ]
  },
  {
   "cell_type": "code",
   "execution_count": null,
   "metadata": {},
   "outputs": [],
   "source": [
    "# Calibrate camera\n",
    "ret, camera_matrix, dist_coeffs, rvecs, tvecs = cv.aruco.calibrateCameraCharuco(\n",
    "    charucoCorners=all_corners,\n",
    "    charucoIds=all_ids,\n",
    "    board=board,\n",
    "    imageSize=gray.shape[::-1],\n",
    "    cameraMatrix=None,\n",
    "    distCoeffs=None\n",
    ")\n",
    "\n",
    "print(\"Camera calibration successful:\", ret)\n",
    "print(\"Camera Matrix:\\n\", camera_matrix)\n",
    "print(\"Distortion Coefficients:\\n\", dist_coeffs)"
   ]
  },
  {
   "cell_type": "code",
   "execution_count": null,
   "metadata": {},
   "outputs": [],
   "source": [
    "# Construct image_poses\n",
    "image_poses = all_corners\n",
    "\n",
    "# Construct pattern_poses using rotation_matrices and translations\n",
    "pattern_poses = np.array([np.hstack((rotation_matrices[i], translations[i][:, np.newaxis])) for i in range(len(images))])\n",
    "\n",
    "# TODO: Why \"orientation\" of camera, and \"position\" of robot arm\n",
    "A = np.zeros((3 * (len(pattern_poses)-1), 3)) # changes in camera's orientation\n",
    "B = np.zeros((3 * (len(pattern_poses)-1), 1)) #  changes in robot arm's position\n",
    "\n",
    "for i, (T1, T2) in enumerate(zip(pattern_poses[:-1], pattern_poses[1:])):\n",
    "    # Calculate equations for matrix A representing changes in camera's coordinate system\n",
    "    # by subtracting rotation component of T1 from identity matrix\n",
    "    A[3*i:3*(i+1)] = np.eye(3) - T1[:3, :3]\n",
    "\n",
    "    # Calculate equations for matrix B representing changes in robot arm's coordinate system\n",
    "    # by subtracting translation component of T1 from translation component of T2\n",
    "    B[3*i:3*(i+1)] = T2[:3, 3:4] - T1[:3, 3:4]\n",
    "\n",
    "calibration_result = np.linalg.lstsq(A, B, rcond=None)[0]\n",
    "\n",
    "print(\"Calibration Result:\", calibration_result)"
   ]
  },
  {
   "cell_type": "markdown",
   "metadata": {},
   "source": [
    "Reprojection"
   ]
  },
  {
   "cell_type": "code",
   "execution_count": null,
   "metadata": {},
   "outputs": [],
   "source": [
    "# TODO"
   ]
  }
 ],
 "metadata": {
  "kernelspec": {
   "display_name": "work",
   "language": "python",
   "name": "python3"
  },
  "language_info": {
   "codemirror_mode": {
    "name": "ipython",
    "version": 3
   },
   "file_extension": ".py",
   "mimetype": "text/x-python",
   "name": "python",
   "nbconvert_exporter": "python",
   "pygments_lexer": "ipython3",
   "version": "3.11.7"
  }
 },
 "nbformat": 4,
 "nbformat_minor": 2
}
